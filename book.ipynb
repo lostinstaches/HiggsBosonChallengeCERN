{
 "cells": [
  {
   "cell_type": "code",
   "execution_count": 68,
   "metadata": {},
   "outputs": [
    {
     "name": "stdout",
     "output_type": "stream",
     "text": [
      "The autoreload extension is already loaded. To reload it, use:\n",
      "  %reload_ext autoreload\n"
     ]
    }
   ],
   "source": [
    "import utils.dataset as dataset\n",
    "import utils.helpers as helpers\n",
    "import implementations\n",
    "\n",
    "%load_ext autoreload\n",
    "%autoreload 2\n",
    "\n",
    "import numpy as np\n",
    "import matplotlib.pyplot as plt"
   ]
  },
  {
   "cell_type": "code",
   "execution_count": 69,
   "metadata": {},
   "outputs": [],
   "source": [
    "TRAIN_DATASET = 'data/train.csv'\n",
    "TEST_DATA = 'data/test.csv'"
   ]
  },
  {
   "cell_type": "code",
   "execution_count": 70,
   "metadata": {},
   "outputs": [
    {
     "name": "stdout",
     "output_type": "stream",
     "text": [
      "Loading data ..\n",
      "Load done ..\n"
     ]
    }
   ],
   "source": [
    "print(\"Loading data ..\")\n",
    "\n",
    "# load the train data\n",
    "Y_train, X_train, indexes = dataset.load_csv_data(TRAIN_DATASET)\n",
    "\n",
    "# {-1, 1} -> {0l, 1}\n",
    "Y_train[np.where(Y_train==-1)] = 0.0\n",
    "\n",
    "print(\"Load done ..\")"
   ]
  },
  {
   "cell_type": "code",
   "execution_count": 71,
   "metadata": {},
   "outputs": [],
   "source": [
    "def add_bias_column(X):\n",
    "    X_temp = np.ones((X.shape[0], X.shape[1]+1))\n",
    "    X_temp[:,:-1] = X\n",
    "    X = X_temp\n",
    "    return X"
   ]
  },
  {
   "cell_type": "code",
   "execution_count": 72,
   "metadata": {},
   "outputs": [
    {
     "name": "stdout",
     "output_type": "stream",
     "text": [
      "Preprocessing train data ..\n",
      "Preprocess done ..\n"
     ]
    }
   ],
   "source": [
    "print(\"Preprocessing train data ..\")\n",
    "\n",
    "ratio_for_splitting = 0.90\n",
    "\n",
    "# chosen experimenttally\n",
    "features_to_delete = [14, 17, 18]\n",
    "\n",
    "# pre process train data\n",
    "X_train = dataset.delete_features(X_train, features_to_delete)\n",
    "X_train = dataset.preprocess_dataset(X_train, 10)\n",
    "\n",
    "# adding bias to X_train data\n",
    "X_train = add_bias_column(X_train)\n",
    "\n",
    "# split_data\n",
    "Y_train, Y_validation, X_train, X_validation = dataset.split_data(Y_train, X_train, ratio_for_splitting)\n",
    "helpers.set_validation_dataset(X_validation, Y_validation)\n",
    "\n",
    "print(\"Preprocess done ..\")"
   ]
  },
  {
   "cell_type": "code",
   "execution_count": 73,
   "metadata": {},
   "outputs": [
    {
     "name": "stdout",
     "output_type": "stream",
     "text": [
      "Preprocessing test data ..\n",
      "Preprocess done ..\n"
     ]
    }
   ],
   "source": [
    "print(\"Preprocessing test data ..\")\n",
    "\n",
    "# load test data for predicting Y_data\n",
    "Y_test, X_test, indexes = dataset.load_csv_data(TEST_DATA)\n",
    "Y_test[np.where(Y_test==-1)] = 0.0\n",
    "\n",
    "# pre process test data\n",
    "X_test = dataset.delete_features(X_test, features_to_delete)\n",
    "X_test = dataset.preprocess_dataset(X_test, 10)\n",
    "\n",
    "X_test = add_bias_column(X_test)\n",
    "\n",
    "print(\"Preprocess done ..\")"
   ]
  },
  {
   "cell_type": "code",
   "execution_count": 74,
   "metadata": {},
   "outputs": [],
   "source": [
    "### delete"
   ]
  },
  {
   "cell_type": "code",
   "execution_count": 75,
   "metadata": {},
   "outputs": [],
   "source": [
    "### PLOT PLOT PLOT ### PLOT PLOT PLOT ### PLOT PLOT PLOT ### PLOT PLOT PLOT ### PLOT PLOT PLOT ###"
   ]
  },
  {
   "cell_type": "code",
   "execution_count": 76,
   "metadata": {},
   "outputs": [],
   "source": [
    "### PLOT PLOT PLOT ### PLOT PLOT PLOT ### PLOT PLOT PLOT ### PLOT PLOT PLOT ### PLOT PLOT PLOT ###"
   ]
  },
  {
   "cell_type": "code",
   "execution_count": 77,
   "metadata": {},
   "outputs": [],
   "source": [
    "### PLOT PLOT PLOT ### PLOT PLOT PLOT ### PLOT PLOT PLOT ### PLOT PLOT PLOT ### PLOT PLOT PLOT ###"
   ]
  },
  {
   "cell_type": "code",
   "execution_count": 127,
   "metadata": {},
   "outputs": [],
   "source": [
    "# put function to helpers\n",
    "def plot_train_test(train_errors, test_errors, test_range, method_name, testparam):\n",
    "    \"\"\"\n",
    "    train_errors, test_errors and lambas should be list (of the same size) the respective train error and test error for a given lambda,\n",
    "    * lambda[0] = 1\n",
    "    * train_errors[0] = RMSE of a ridge regression on the train set\n",
    "    * test_errors[0] = RMSE of the parameter found by ridge regression applied on the test set\n",
    "    \n",
    "    degree is just used for the title of the plot.\n",
    "    \"\"\"\n",
    "    plt.semilogx(test_range, train_errors, color='b', marker='*', label=\"Train error\")\n",
    "    plt.semilogx(test_range, test_errors, color='r', marker='*', label=\"Test error\")\n",
    "    plt.xlabel(testparam)\n",
    "    plt.ylabel(\"root mean squared error\")\n",
    "    plt.title(\"\"+method_name+\" - \"+testparam+\" testing\")\n",
    "    leg = plt.legend(loc=1, shadow=True)\n",
    "    leg.draw_frame(False)\n",
    "    plt.savefig(method_name+\"_\"+testparam+\"_testing\")"
   ]
  },
  {
   "cell_type": "code",
   "execution_count": 79,
   "metadata": {},
   "outputs": [],
   "source": [
    "# defines initial w of size of features\n",
    "_features = X_train.shape[1]\n",
    "w_initial = np.zeros((_features), dtype=int)"
   ]
  },
  {
   "cell_type": "code",
   "execution_count": 91,
   "metadata": {},
   "outputs": [],
   "source": [
    "# method_name   = algorithm\n",
    "# params        = specific parameters for method\n",
    "# test_range    = range from to of to_test_param\n",
    "# to_test_param = the parameter we want to test in the range of test_range\n",
    "def regression_gamma_testing(y, x, ratio, seed, test_range, method_name, params, to_test_param):\n",
    "    # define parameter\n",
    "    test_range = test_range\n",
    "    \n",
    "    # split data into test and train\n",
    "    x_tr, x_te, y_tr, y_te = dataset.split_data(x, y, ratio, seed)\n",
    "    c = 0\n",
    "    \n",
    "    # store train and test err\n",
    "    err_train = []\n",
    "    err_test = []\n",
    "    \n",
    "    training_tr = implementations.Training(method_name, params)\n",
    "    training_te = implementations.Training(method_name, params)\n",
    "    \n",
    "    for ind, new_param in enumerate(test_range):\n",
    "        training_tr.params[to_test_param] = new_param\n",
    "        w_tr, mse_tr = training_tr.fit(x_tr, y_tr)\n",
    "        \n",
    "        training_te.params[to_test_param] = new_param  \n",
    "        w_te, mse_te = training_te.fit(x_te, y_te)\n",
    "                \n",
    "        err_train.append(mse_tr)\n",
    "        err_test.append(mse_te)\n",
    "        c += 1\n",
    "        print(c, \"proportion={p}, gamma={g:.3f}, Training RMSE={tr:.5f}, Testing RMSE={te:.5f}\".format(\n",
    "               p=ratio, g=new_param, tr=err_train[ind], te=err_test[ind]))\n",
    "    plot_train_test(err_train, err_test, test_range, method_name, to_test_param)"
   ]
  },
  {
   "cell_type": "markdown",
   "metadata": {},
   "source": [
    "## Linear regression using gradient descent\n",
    "### hyperparameter gamma testing"
   ]
  },
  {
   "cell_type": "code",
   "execution_count": 102,
   "metadata": {},
   "outputs": [
    {
     "name": "stdout",
     "output_type": "stream",
     "text": [
      "1 proportion=0.9, gamma=0.000, Training RMSE=0.17093, Testing RMSE=0.17188\n",
      "2 proportion=0.9, gamma=0.000, Training RMSE=0.17077, Testing RMSE=0.17169\n",
      "3 proportion=0.9, gamma=0.000, Training RMSE=0.17052, Testing RMSE=0.17138\n",
      "4 proportion=0.9, gamma=0.000, Training RMSE=0.17012, Testing RMSE=0.17088\n",
      "5 proportion=0.9, gamma=0.000, Training RMSE=0.16948, Testing RMSE=0.17010\n",
      "6 proportion=0.9, gamma=0.000, Training RMSE=0.16848, Testing RMSE=0.16888\n",
      "7 proportion=0.9, gamma=0.000, Training RMSE=0.16696, Testing RMSE=0.16706\n",
      "8 proportion=0.9, gamma=0.000, Training RMSE=0.16473, Testing RMSE=0.16446\n",
      "9 proportion=0.9, gamma=0.001, Training RMSE=0.16163, Testing RMSE=0.16091\n",
      "10 proportion=0.9, gamma=0.001, Training RMSE=0.15755, Testing RMSE=0.15633\n",
      "11 proportion=0.9, gamma=0.001, Training RMSE=0.15237, Testing RMSE=0.15050\n",
      "12 proportion=0.9, gamma=0.002, Training RMSE=0.14579, Testing RMSE=0.14302\n",
      "13 proportion=0.9, gamma=0.004, Training RMSE=0.13736, Testing RMSE=0.13355\n",
      "14 proportion=0.9, gamma=0.006, Training RMSE=0.12694, Testing RMSE=0.12217\n",
      "15 proportion=0.9, gamma=0.010, Training RMSE=0.11492, Testing RMSE=0.10957\n"
     ]
    },
    {
     "data": {
      "image/png": "[encoded data removed]",
      "text/plain": [
       "<Figure size 432x288 with 1 Axes>"
      ]
     },
     "metadata": {},
     "output_type": "display_data"
    }
   ],
   "source": [
    "# seed for splitting\n",
    "seed = 1234\n",
    "# seed for splitting\n",
    "split_ratio = ratio_for_splitting\n",
    "# range of gamma to plot (from, to, iterations)\n",
    "gamma_range_gd = np.logspace(-5, -2, 15)\n",
    "# iterations per gamma\n",
    "iteration_gd = 10\n",
    "# params for LS-GD\n",
    "params = {\n",
    "    'gamma': 0.0005,\n",
    "    'initial_w': np.zeros(X_train.shape[1]),\n",
    "    'max_iters': iteration_gd ,\n",
    "}\n",
    "\n",
    "regression_gamma_testing(Y_train, X_train, split_ratio, seed, gamma_range_gd, \"least_squares_GD\", params, \"gamma\")\n"
   ]
  },
  {
   "cell_type": "markdown",
   "metadata": {},
   "source": [
    "## Linear regression using stochastic gradient descent\n",
    "### hyperparameter gamma testing"
   ]
  },
  {
   "cell_type": "code",
   "execution_count": 97,
   "metadata": {},
   "outputs": [
    {
     "name": "stdout",
     "output_type": "stream",
     "text": [
      "1 proportion=0.9, gamma=0.000, Training RMSE=0.17083, Testing RMSE=0.17162\n",
      "2 proportion=0.9, gamma=0.000, Training RMSE=0.17078, Testing RMSE=0.17142\n",
      "3 proportion=0.9, gamma=0.000, Training RMSE=0.17027, Testing RMSE=0.17094\n",
      "4 proportion=0.9, gamma=0.000, Training RMSE=0.17006, Testing RMSE=0.17056\n",
      "5 proportion=0.9, gamma=0.000, Training RMSE=0.16999, Testing RMSE=0.17009\n",
      "6 proportion=0.9, gamma=0.000, Training RMSE=0.16743, Testing RMSE=0.16850\n",
      "7 proportion=0.9, gamma=0.000, Training RMSE=0.16493, Testing RMSE=0.16330\n",
      "8 proportion=0.9, gamma=0.000, Training RMSE=0.16239, Testing RMSE=0.16204\n",
      "9 proportion=0.9, gamma=0.001, Training RMSE=0.15685, Testing RMSE=0.15924\n",
      "10 proportion=0.9, gamma=0.001, Training RMSE=0.15178, Testing RMSE=0.15037\n",
      "11 proportion=0.9, gamma=0.001, Training RMSE=0.14297, Testing RMSE=0.14714\n",
      "12 proportion=0.9, gamma=0.002, Training RMSE=0.14995, Testing RMSE=0.16710\n",
      "13 proportion=0.9, gamma=0.004, Training RMSE=0.14299, Testing RMSE=0.27658\n",
      "14 proportion=0.9, gamma=0.006, Training RMSE=0.35626, Testing RMSE=0.33724\n",
      "15 proportion=0.9, gamma=0.010, Training RMSE=0.34596, Testing RMSE=14.59806\n"
     ]
    },
    {
     "data": {
      "image/png": "[encoded data removed]",
      "text/plain": [
       "<Figure size 432x288 with 1 Axes>"
      ]
     },
     "metadata": {},
     "output_type": "display_data"
    }
   ],
   "source": [
    "gamma_range_sgd = np.logspace(-5, -2, 15)\n",
    "# iterations per gamma\n",
    "iteration_sgd = 10\n",
    "# params for LS-SGD\n",
    "params = {\n",
    "    'initial_w': np.zeros(X_train.shape[1]),\n",
    "    'batch_size': 100000,\n",
    "    'max_iters': iteration_sgd,\n",
    "    'gamma': 0.00005,\n",
    "}\n",
    "\n",
    "regression_gamma_testing(Y_train, X_train, split_ratio, seed, gamma_range_sgd, \"least_squares_SGD\", params, \"gamma\")\n"
   ]
  },
  {
   "cell_type": "markdown",
   "metadata": {},
   "source": [
    "## Least squares regression using normal equations\n"
   ]
  },
  {
   "cell_type": "code",
   "execution_count": null,
   "metadata": {},
   "outputs": [],
   "source": [
    "### todo\n",
    "### todo"
   ]
  },
  {
   "cell_type": "markdown",
   "metadata": {},
   "source": [
    "## Ridge regression using normal equations\n",
    "### hyperparameter lambda testing"
   ]
  },
  {
   "cell_type": "code",
   "execution_count": 115,
   "metadata": {},
   "outputs": [
    {
     "name": "stdout",
     "output_type": "stream",
     "text": [
      "1 proportion=0.9, gamma=0.000, Training RMSE=0.07609, Testing RMSE=0.07560\n",
      "2 proportion=0.9, gamma=0.000, Training RMSE=0.07644, Testing RMSE=0.07610\n",
      "3 proportion=0.9, gamma=0.001, Training RMSE=0.07678, Testing RMSE=0.07651\n",
      "4 proportion=0.9, gamma=0.002, Training RMSE=0.07723, Testing RMSE=0.07696\n",
      "5 proportion=0.9, gamma=0.005, Training RMSE=0.07792, Testing RMSE=0.07765\n",
      "6 proportion=0.9, gamma=0.013, Training RMSE=0.07888, Testing RMSE=0.07871\n",
      "7 proportion=0.9, gamma=0.034, Training RMSE=0.08033, Testing RMSE=0.08027\n",
      "8 proportion=0.9, gamma=0.089, Training RMSE=0.08336, Testing RMSE=0.08319\n",
      "9 proportion=0.9, gamma=0.234, Training RMSE=0.09072, Testing RMSE=0.09036\n",
      "10 proportion=0.9, gamma=0.616, Training RMSE=0.10606, Testing RMSE=0.10547\n",
      "11 proportion=0.9, gamma=1.624, Training RMSE=0.12674, Testing RMSE=0.12580\n",
      "12 proportion=0.9, gamma=4.281, Training RMSE=0.14464, Testing RMSE=0.14346\n",
      "13 proportion=0.9, gamma=11.288, Training RMSE=0.15662, Testing RMSE=0.15536\n",
      "14 proportion=0.9, gamma=29.764, Training RMSE=0.16391, Testing RMSE=0.16257\n",
      "15 proportion=0.9, gamma=78.476, Training RMSE=0.16794, Testing RMSE=0.16657\n",
      "16 proportion=0.9, gamma=206.914, Training RMSE=0.16988, Testing RMSE=0.16848\n",
      "17 proportion=0.9, gamma=545.559, Training RMSE=0.17070, Testing RMSE=0.16930\n",
      "18 proportion=0.9, gamma=1438.450, Training RMSE=0.17102, Testing RMSE=0.16962\n",
      "19 proportion=0.9, gamma=3792.690, Training RMSE=0.17115, Testing RMSE=0.16975\n",
      "20 proportion=0.9, gamma=10000.000, Training RMSE=0.17120, Testing RMSE=0.16979\n"
     ]
    },
    {
     "data": {
      "image/png": "[encoded data removed]",
      "text/plain": [
       "<Figure size 432x288 with 1 Axes>"
      ]
     },
     "metadata": {},
     "output_type": "display_data"
    }
   ],
   "source": [
    "# seed for splitting\n",
    "seed = 12\n",
    "# seed for splitting\n",
    "split_ratio = ratio_for_splitting\n",
    "# range of lambda to plot (from, to, iterations)\n",
    "lambdarange = np.logspace(-4, 4, 20)\n",
    "params = {\n",
    "    'lambda_': 0\n",
    "}\n",
    "\n",
    "regression_gamma_testing(Y_train, X_train, split_ratio, seed, lambdarange, \"ridge_regression\", params, \"lambda_\")\n"
   ]
  },
  {
   "cell_type": "markdown",
   "metadata": {},
   "source": [
    "## Logistic regression using gradient descent or SGD\n",
    "### hyperparameter gamma testing"
   ]
  },
  {
   "cell_type": "code",
   "execution_count": 122,
   "metadata": {},
   "outputs": [
    {
     "name": "stdout",
     "output_type": "stream",
     "text": [
      "iter 0 loss 0.6931466762331397\n",
      "Train accuracy 0.6751851851851852\n",
      "iter 0 loss 0.6931418214931975\n",
      "Train accuracy 0.6712888888888889\n",
      "1 proportion=0.9, gamma=0.000, Training RMSE=0.69314, Testing RMSE=0.69314\n",
      "iter 0 loss 0.69313590307415\n",
      "Train accuracy 0.6755012345679012\n",
      "iter 0 loss 0.6931231570475098\n",
      "Train accuracy 0.6716888888888889\n",
      "2 proportion=0.9, gamma=0.000, Training RMSE=0.69312, Testing RMSE=0.69311\n",
      "iter 0 loss 0.6931070126579754\n",
      "Train accuracy 0.6754962962962963\n",
      "iter 0 loss 0.6930731193825792\n",
      "Train accuracy 0.6720444444444444\n",
      "3 proportion=0.9, gamma=0.000, Training RMSE=0.69307, Testing RMSE=0.69304\n",
      "iter 0 loss 0.6930295853360083\n",
      "Train accuracy 0.6755358024691358\n",
      "iter 0 loss 0.6929391232604877\n",
      "Train accuracy 0.672\n",
      "4 proportion=0.9, gamma=0.000, Training RMSE=0.69294, Testing RMSE=0.69286\n",
      "iter 0 loss 0.6928224232262336\n",
      "Train accuracy 0.6755851851851852\n",
      "iter 0 loss 0.692581369646321\n",
      "Train accuracy 0.6719111111111111\n",
      "5 proportion=0.9, gamma=0.000, Training RMSE=0.69259, Testing RMSE=0.69236\n",
      "iter 0 loss 0.6922706143809764\n",
      "Train accuracy 0.6756790123456791\n",
      "iter 0 loss 0.6916338311838985\n",
      "Train accuracy 0.6721333333333334\n",
      "6 proportion=0.9, gamma=0.000, Training RMSE=0.69165, Testing RMSE=0.69106\n",
      "iter 0 loss 0.6908181372547066\n",
      "Train accuracy 0.6759456790123457\n",
      "iter 0 loss 0.6891767960664279\n",
      "Train accuracy 0.6725333333333333\n",
      "7 proportion=0.9, gamma=0.000, Training RMSE=0.68922, Testing RMSE=0.68772\n",
      "iter 0 loss 0.6871121016540195\n",
      "Train accuracy 0.6766123456790123\n",
      "iter 0 loss 0.6831424214872199\n",
      "Train accuracy 0.6735111111111111\n",
      "8 proportion=0.9, gamma=0.001, Training RMSE=0.68323, Testing RMSE=0.67979\n",
      "iter 0 loss 0.6783626708063184\n",
      "Train accuracy 0.678720987654321\n",
      "iter 0 loss 0.6700804817802499\n",
      "Train accuracy 0.6770666666666667\n",
      "9 proportion=0.9, gamma=0.003, Training RMSE=0.67011, Testing RMSE=0.66368\n",
      "iter 0 loss 0.6608730459254551\n",
      "Train accuracy 0.6832888888888888\n",
      "iter 0 loss 0.647468774624521\n",
      "Train accuracy 0.6874666666666667\n",
      "10 proportion=0.9, gamma=0.007, Training RMSE=0.64709, Testing RMSE=0.63795\n",
      "iter 0 loss 0.6334591352162695\n",
      "Train accuracy 0.6947111111111111\n",
      "iter 0 loss 0.6159871610525436\n",
      "Train accuracy 0.6965777777777777\n",
      "11 proportion=0.9, gamma=0.019, Training RMSE=0.61495, Testing RMSE=0.60376\n",
      "iter 0 loss 0.5979023334961467\n",
      "Train accuracy 0.7053382716049382\n",
      "iter 0 loss 0.5786533181426515\n",
      "Train accuracy 0.708\n",
      "12 proportion=0.9, gamma=0.052, Training RMSE=0.57689, Testing RMSE=0.56584\n",
      "iter 0 loss 0.559388279607857\n",
      "Train accuracy 0.717604938271605\n",
      "iter 0 loss 0.5416605391297025\n",
      "Train accuracy 0.726\n",
      "13 proportion=0.9, gamma=0.139, Training RMSE=0.53867, Testing RMSE=0.52947\n",
      "iter 0 loss 0.5226123421705721\n",
      "Train accuracy 0.7398518518518519\n",
      "iter 0 loss 0.509288282002606\n",
      "Train accuracy 0.7518222222222222\n",
      "14 proportion=0.9, gamma=0.373, Training RMSE=0.50507, Testing RMSE=0.49995\n",
      "iter 0 loss 0.4941000745413844\n",
      "Train accuracy 0.7568691358024692\n",
      "iter 0 loss 0.8640277889076345\n",
      "Train accuracy 0.7052\n",
      "15 proportion=0.9, gamma=1.000, Training RMSE=0.78009, Testing RMSE=0.73696\n"
     ]
    },
    {
     "data": {
      "image/png": "[encoded data removed]",
      "text/plain": [
       "<Figure size 432x288 with 1 Axes>"
      ]
     },
     "metadata": {},
     "output_type": "display_data"
    }
   ],
   "source": [
    "# Gamma testing\n",
    "gamma_range_reglog_gamma = np.logspace(-6, 0, 15)\n",
    "iteration_reglog = 10\n",
    "params = {\n",
    "    'lambda_': 0.0005,\n",
    "    'initial_w': np.zeros(X_train.shape[1]),\n",
    "    'max_iters': iteration_reglog ,\n",
    "    'gamma': 0.01 ,\n",
    "}\n",
    "\n",
    "regression_gamma_testing(Y_train, X_train, split_ratio, seed, gamma_range_reglog_gamma, \"logistic_regression\", params, \"gamma\")\n"
   ]
  },
  {
   "cell_type": "markdown",
   "metadata": {},
   "source": [
    "## Regularized logistic regression using gradient descent or SGD\n",
    "### hyperparameter gamma testing"
   ]
  },
  {
   "cell_type": "code",
   "execution_count": 125,
   "metadata": {},
   "outputs": [
    {
     "name": "stdout",
     "output_type": "stream",
     "text": [
      "1 proportion=0.9, gamma=0.000, Training RMSE=0.69310, Testing RMSE=0.69304\n",
      "2 proportion=0.9, gamma=0.000, Training RMSE=0.69295, Testing RMSE=0.69285\n",
      "3 proportion=0.9, gamma=0.000, Training RMSE=0.69269, Testing RMSE=0.69249\n",
      "4 proportion=0.9, gamma=0.000, Training RMSE=0.69222, Testing RMSE=0.69185\n",
      "5 proportion=0.9, gamma=0.000, Training RMSE=0.69136, Testing RMSE=0.69069\n",
      "6 proportion=0.9, gamma=0.000, Training RMSE=0.68983, Testing RMSE=0.68863\n",
      "7 proportion=0.9, gamma=0.000, Training RMSE=0.68713, Testing RMSE=0.68506\n",
      "8 proportion=0.9, gamma=0.001, Training RMSE=0.68254, Testing RMSE=0.67911\n",
      "9 proportion=0.9, gamma=0.001, Training RMSE=0.67514, Testing RMSE=0.66982\n",
      "10 proportion=0.9, gamma=0.002, Training RMSE=0.66416, Testing RMSE=0.65657\n",
      "11 proportion=0.9, gamma=0.004, Training RMSE=0.64940, Testing RMSE=0.63951\n",
      "12 proportion=0.9, gamma=0.008, Training RMSE=0.63123, Testing RMSE=0.61910\n",
      "13 proportion=0.9, gamma=0.014, Training RMSE=0.61004, Testing RMSE=0.59594\n",
      "14 proportion=0.9, gamma=0.026, Training RMSE=0.58682, Testing RMSE=0.57153\n",
      "15 proportion=0.9, gamma=0.048, Training RMSE=0.56327, Testing RMSE=0.54740\n",
      "16 proportion=0.9, gamma=0.089, Training RMSE=0.54022, Testing RMSE=0.52420\n",
      "17 proportion=0.9, gamma=0.162, Training RMSE=0.51868, Testing RMSE=0.50359\n",
      "18 proportion=0.9, gamma=0.298, Training RMSE=0.50070, Testing RMSE=0.48723\n",
      "19 proportion=0.9, gamma=0.546, Training RMSE=0.48658, Testing RMSE=0.47424\n",
      "20 proportion=0.9, gamma=1.000, Training RMSE=0.66779, Testing RMSE=0.68002\n"
     ]
    },
    {
     "data": {
      "image/png": "[encoded data removed]",
      "text/plain": [
       "<Figure size 432x288 with 1 Axes>"
      ]
     },
     "metadata": {},
     "output_type": "display_data"
    }
   ],
   "source": [
    "# Gamma testing\n",
    "gamma_range_reglog_gamma = np.logspace(-5, 0, 20)\n",
    "iteration_reglog = 10\n",
    "params = {\n",
    "    'lambda_': 0.0005,\n",
    "    'initial_w': np.zeros(X_train.shape[1]),\n",
    "    'max_iters': iteration_reglog ,\n",
    "    'gamma': 0.01 ,\n",
    "}\n",
    "\n",
    "regression_gamma_testing(Y_train, X_train, split_ratio, seed, gamma_range_reglog_gamma, \"reg_logistic_regression\", params, \"gamma\")\n"
   ]
  },
  {
   "cell_type": "markdown",
   "metadata": {},
   "source": [
    "### hyperparameter lambda testing"
   ]
  },
  {
   "cell_type": "code",
   "execution_count": 126,
   "metadata": {},
   "outputs": [
    {
     "name": "stdout",
     "output_type": "stream",
     "text": [
      "1 proportion=0.9, gamma=0.000, Training RMSE=0.65860, Testing RMSE=0.64076\n",
      "2 proportion=0.9, gamma=0.000, Training RMSE=0.62720, Testing RMSE=0.61847\n",
      "3 proportion=0.9, gamma=0.000, Training RMSE=0.60911, Testing RMSE=0.60384\n",
      "4 proportion=0.9, gamma=0.000, Training RMSE=0.59629, Testing RMSE=0.59302\n",
      "5 proportion=0.9, gamma=0.000, Training RMSE=0.58649, Testing RMSE=0.58452\n",
      "6 proportion=0.9, gamma=0.001, Training RMSE=0.57862, Testing RMSE=0.57756\n",
      "7 proportion=0.9, gamma=0.003, Training RMSE=0.57207, Testing RMSE=0.57169\n",
      "8 proportion=0.9, gamma=0.011, Training RMSE=0.56648, Testing RMSE=0.56661\n",
      "9 proportion=0.9, gamma=0.043, Training RMSE=0.56161, Testing RMSE=0.56215\n",
      "10 proportion=0.9, gamma=0.162, Training RMSE=0.55730, Testing RMSE=0.55817\n",
      "11 proportion=0.9, gamma=0.616, Training RMSE=0.55344, Testing RMSE=0.55459\n",
      "12 proportion=0.9, gamma=2.336, Training RMSE=0.54995, Testing RMSE=0.55133\n",
      "13 proportion=0.9, gamma=8.859, Training RMSE=0.54677, Testing RMSE=0.54838\n",
      "14 proportion=0.9, gamma=33.598, Training RMSE=0.54387, Testing RMSE=0.54580\n",
      "15 proportion=0.9, gamma=127.427, Training RMSE=0.54125, Testing RMSE=0.54394\n",
      "16 proportion=0.9, gamma=483.293, Training RMSE=0.53908, Testing RMSE=0.54437\n",
      "17 proportion=0.9, gamma=1832.981, Training RMSE=0.53808, Testing RMSE=0.55324\n",
      "18 proportion=0.9, gamma=6951.928, Training RMSE=0.54110, Testing RMSE=0.59236\n",
      "19 proportion=0.9, gamma=26366.509, Training RMSE=0.55809, Testing RMSE=0.71264\n",
      "20 proportion=0.9, gamma=100000.000, Training RMSE=0.61071, Testing RMSE=0.84125\n"
     ]
    },
    {
     "data": {
      "image/png": "[encoded data removed]",
      "text/plain": [
       "<Figure size 432x288 with 1 Axes>"
      ]
     },
     "metadata": {},
     "output_type": "display_data"
    }
   ],
   "source": [
    "# Lambda testing\n",
    "gamma_range_reglog_lambda = np.logspace(-6, 5, 20)\n",
    "\n",
    "params = {\n",
    "    'lambda_': 0.0005,\n",
    "    'initial_w': np.zeros(X_train.shape[1]),\n",
    "    'max_iters': iteration_reglog ,\n",
    "    'gamma': 0.01 ,\n",
    "}\n",
    "\n",
    "regression_gamma_testing(Y_train, X_train, split_ratio, seed, gamma_range_reglog_lambda, \"reg_logistic_regression\", params, \"lambda_\")\n"
   ]
  }
 ],
 "metadata": {
  "kernelspec": {
   "display_name": "Python 3",
   "language": "python",
   "name": "python3"
  },
  "language_info": {
   "codemirror_mode": {
    "name": "ipython",
    "version": 3
   },
   "file_extension": ".py",
   "mimetype": "text/x-python",
   "name": "python",
   "nbconvert_exporter": "python",
   "pygments_lexer": "ipython3",
   "version": "3.6.5"
  }
 },
 "nbformat": 4,
 "nbformat_minor": 2
}
