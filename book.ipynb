{
 "cells": [
  {
   "cell_type": "code",
   "execution_count": 1,
   "metadata": {},
   "outputs": [],
   "source": [
    "import utils.dataset as dataset\n",
    "import utils.helpers as helpers\n",
    "import implementations\n",
    "\n",
    "%load_ext autoreload\n",
    "%autoreload 2\n",
    "\n",
    "import numpy as np\n",
    "import matplotlib.pyplot as plt"
   ]
  },
  {
   "cell_type": "code",
   "execution_count": 2,
   "metadata": {},
   "outputs": [],
   "source": [
    "TRAIN_DATASET = 'data/train.csv'\n",
    "TEST_DATA = 'data/test.csv'"
   ]
  },
  {
   "cell_type": "code",
   "execution_count": 3,
   "metadata": {},
   "outputs": [
    {
     "name": "stdout",
     "output_type": "stream",
     "text": [
      "Loading data ..\n",
      "Load done ..\n"
     ]
    }
   ],
   "source": [
    "print(\"Loading data ..\")\n",
    "\n",
    "# load the train data\n",
    "Y_train, X_train, indexes = dataset.load_csv_data(TRAIN_DATASET)\n",
    "\n",
    "# {-1, 1} -> {0l, 1}\n",
    "Y_train[np.where(Y_train==-1)] = 0.0\n",
    "\n",
    "print(\"Load done ..\")"
   ]
  },
  {
   "cell_type": "code",
   "execution_count": 4,
   "metadata": {},
   "outputs": [],
   "source": [
    "def add_bias_column(X):\n",
    "    X_temp = np.ones((X.shape[0], X.shape[1]+1))\n",
    "    X_temp[:,:-1] = X\n",
    "    X = X_temp\n",
    "    return X"
   ]
  },
  {
   "cell_type": "code",
   "execution_count": 5,
   "metadata": {},
   "outputs": [
    {
     "name": "stdout",
     "output_type": "stream",
     "text": [
      "Preprocessing train data ..\n",
      "Preprocess done ..\n"
     ]
    }
   ],
   "source": [
    "print(\"Preprocessing train data ..\")\n",
    "\n",
    "ratio_for_splitting = 0.90\n",
    "\n",
    "# chosen experimenttally\n",
    "features_to_delete = [14, 17, 18]\n",
    "\n",
    "# pre process train data\n",
    "X_train = dataset.delete_features(X_train, features_to_delete)\n",
    "X_train = dataset.preprocess_dataset(X_train, 10)\n",
    "\n",
    "# adding bias to X_train data\n",
    "X_train = add_bias_column(X_train)\n",
    "\n",
    "# split_data\n",
    "Y_train, Y_validation, X_train, X_validation = dataset.split_data(Y_train, X_train, ratio_for_splitting)\n",
    "helpers.set_validation_dataset(X_validation, Y_validation)\n",
    "\n",
    "print(\"Preprocess done ..\")"
   ]
  },
  {
   "cell_type": "code",
   "execution_count": 6,
   "metadata": {},
   "outputs": [
    {
     "name": "stdout",
     "output_type": "stream",
     "text": [
      "Preprocessing test data ..\n",
      "Preprocess done ..\n"
     ]
    }
   ],
   "source": [
    "print(\"Preprocessing test data ..\")\n",
    "\n",
    "# load test data for predicting Y_data\n",
    "Y_test, X_test, indexes = dataset.load_csv_data(TEST_DATA)\n",
    "Y_test[np.where(Y_test==-1)] = 0.0\n",
    "\n",
    "# pre process test data\n",
    "X_test = dataset.delete_features(X_test, features_to_delete)\n",
    "X_test = dataset.preprocess_dataset(X_test, 10)\n",
    "\n",
    "X_test = add_bias_column(X_test)\n",
    "\n",
    "print(\"Preprocess done ..\")"
   ]
  },
  {
   "cell_type": "code",
   "execution_count": 7,
   "metadata": {},
   "outputs": [],
   "source": [
    "### delete"
   ]
  },
  {
   "cell_type": "code",
   "execution_count": 8,
   "metadata": {},
   "outputs": [],
   "source": [
    "### PLOT PLOT PLOT ### PLOT PLOT PLOT ### PLOT PLOT PLOT ### PLOT PLOT PLOT ### PLOT PLOT PLOT ###"
   ]
  },
  {
   "cell_type": "code",
   "execution_count": 9,
   "metadata": {},
   "outputs": [],
   "source": [
    "### PLOT PLOT PLOT ### PLOT PLOT PLOT ### PLOT PLOT PLOT ### PLOT PLOT PLOT ### PLOT PLOT PLOT ###"
   ]
  },
  {
   "cell_type": "code",
   "execution_count": 10,
   "metadata": {},
   "outputs": [],
   "source": [
    "### PLOT PLOT PLOT ### PLOT PLOT PLOT ### PLOT PLOT PLOT ### PLOT PLOT PLOT ### PLOT PLOT PLOT ###"
   ]
  },
  {
   "cell_type": "code",
   "execution_count": 11,
   "metadata": {},
   "outputs": [],
   "source": [
    "# put function to helpers\n",
    "def plot_train_test(train_errors, test_errors, test_range, title, testparam):\n",
    "    \"\"\"\n",
    "    train_errors, test_errors and lambas should be list (of the same size) the respective train error and test error for a given lambda,\n",
    "    * lambda[0] = 1\n",
    "    * train_errors[0] = RMSE of a ridge regression on the train set\n",
    "    * test_errors[0] = RMSE of the parameter found by ridge regression applied on the test set\n",
    "    \n",
    "    degree is just used for the title of the plot.\n",
    "    \"\"\"\n",
    "    plt.semilogx(test_range, train_errors, color='b', marker='*', label=\"Train error\")\n",
    "    plt.semilogx(test_range, test_errors, color='r', marker='*', label=\"Test error\")\n",
    "    plt.xlabel(testparam)\n",
    "    plt.ylabel(\"R_MSE\")\n",
    "    plt.title(title)\n",
    "    leg = plt.legend(loc=1, shadow=True)\n",
    "    leg.draw_frame(False)\n",
    "    #plt.savefig(\"ridge_regression\")"
   ]
  },
  {
   "cell_type": "code",
   "execution_count": 12,
   "metadata": {},
   "outputs": [],
   "source": [
    "# defines initial w of size of features\n",
    "_features = X_train.shape[1]\n",
    "w_initial = np.zeros((_features), dtype=int)"
   ]
  },
  {
   "cell_type": "code",
   "execution_count": 13,
   "metadata": {},
   "outputs": [],
   "source": [
    "def regression_gamma_testing(y, x, ratio, seed, test_range, method_name, params, to_test_param):\n",
    "    # define parameter\n",
    "    test_range = test_range\n",
    "    \n",
    "    # split data into test and train\n",
    "    x_tr, x_te, y_tr, y_te = dataset.split_data(x, y, ratio, seed)\n",
    "    c = 0\n",
    "    \n",
    "    # store train and test err\n",
    "    err_train = []\n",
    "    err_test = []\n",
    "    \n",
    "    training_gd_tr = implementations.Training(method_name, params)\n",
    "    training_gd_te = implementations.Training(method_name, params)\n",
    "    \n",
    "    for ind, new_param in enumerate(test_range):\n",
    "        training_gd_tr.params[to_test_param] = new_param\n",
    "        print(\"GAMMA TRAIN\", training_gd_tr.params[to_test_param])\n",
    "        w_tr, mse_tr = training_gd_tr.fit(x_tr, y_tr)\n",
    "        \n",
    "        training_gd_te.params[to_test_param] = new_param  \n",
    "        print(\"GAMMA test\", training_gd_te.params[to_test_param])\n",
    "        w_te, mse_te = training_gd_te.fit(x_te, y_te)\n",
    "                \n",
    "        err_train.append(mse_tr)\n",
    "        err_test.append(mse_te)\n",
    "        c += 1\n",
    "        print(c, \"proportion={p}, gamma={g:.3f}, Training RMSE={tr:.5f}, Testing RMSE={te:.5f}\".format(\n",
    "               p=ratio, g=new_param, tr=err_train[ind], te=err_test[ind]))\n",
    "    plot_train_test(err_train, err_test, test_range, \"\"+method_name+\" - \"+to_test_param+\" testing\", to_test_param)"
   ]
  },
  {
   "cell_type": "markdown",
   "metadata": {},
   "source": [
    "## Linear regression using gradient descent"
   ]
  },
  {
   "cell_type": "code",
   "execution_count": 14,
   "metadata": {},
   "outputs": [
    {
     "name": "stdout",
     "output_type": "stream",
     "text": [
      "GAMMA TRAIN 0.001\n",
      "Gradient Descent(0/4): gamma=0.001 mse-loss=0.17146913580246914 \n",
      "Gradient Descent(1/4): gamma=0.001 mse-loss=0.17087763712956291 \n",
      "Gradient Descent(2/4): gamma=0.001 mse-loss=0.17030503980219402 \n",
      "Gradient Descent(3/4): gamma=0.001 mse-loss=0.16975041082721123 \n",
      "Gradient Descent(4/4): gamma=0.001 mse-loss=0.16921286708729935 \n",
      "GAMMA test 0.001\n",
      "Gradient Descent(0/4): gamma=0.001 mse-loss=0.17213333333333333 \n",
      "Gradient Descent(1/4): gamma=0.001 mse-loss=0.17155112794377317 \n",
      "Gradient Descent(2/4): gamma=0.001 mse-loss=0.17098700879700093 \n",
      "Gradient Descent(3/4): gamma=0.001 mse-loss=0.17044010218448702 \n",
      "Gradient Descent(4/4): gamma=0.001 mse-loss=0.1699095797753996 \n",
      "1 proportion=0.9, gamma=0.001, Training RMSE=0.16921, Testing RMSE=0.16991\n",
      "GAMMA TRAIN 0.0013894954943731374\n",
      "Gradient Descent(0/4): gamma=0.0013894954943731374 mse-loss=0.17146913580246914 \n",
      "Gradient Descent(1/4): gamma=0.0013894954943731374 mse-loss=0.17064987373532958 \n",
      "Gradient Descent(2/4): gamma=0.0013894954943731374 mse-loss=0.1698667449010939 \n",
      "Gradient Descent(3/4): gamma=0.0013894954943731374 mse-loss=0.16911728634574452 \n",
      "Gradient Descent(4/4): gamma=0.0013894954943731374 mse-loss=0.16839921695214272 \n",
      "GAMMA test 0.0013894954943731374\n",
      "Gradient Descent(0/4): gamma=0.0013894954943731374 mse-loss=0.17213333333333333 \n",
      "Gradient Descent(1/4): gamma=0.0013894954943731374 mse-loss=0.17132686974575498 \n",
      "Gradient Descent(2/4): gamma=0.0013894954943731374 mse-loss=0.17055498876529976 \n",
      "Gradient Descent(3/4): gamma=0.0013894954943731374 mse-loss=0.16981538283905312 \n",
      "Gradient Descent(4/4): gamma=0.0013894954943731374 mse-loss=0.1691059100113201 \n",
      "2 proportion=0.9, gamma=0.001, Training RMSE=0.16840, Testing RMSE=0.16911\n",
      "GAMMA TRAIN 0.0019306977288832496\n",
      "Gradient Descent(0/4): gamma=0.0019306977288832496 mse-loss=0.17146913580246914 \n",
      "Gradient Descent(1/4): gamma=0.0019306977288832496 mse-loss=0.1703358384418004 \n",
      "Gradient Descent(2/4): gamma=0.0019306977288832496 mse-loss=0.1692713450559735 \n",
      "Gradient Descent(3/4): gamma=0.0019306977288832496 mse-loss=0.16826919535799656 \n",
      "Gradient Descent(4/4): gamma=0.0019306977288832496 mse-loss=0.16732358617060117 \n",
      "GAMMA test 0.0019306977288832496\n",
      "Gradient Descent(0/4): gamma=0.0019306977288832496 mse-loss=0.17213333333333333 \n",
      "Gradient Descent(1/4): gamma=0.0019306977288832496 mse-loss=0.17101759834561495 \n",
      "Gradient Descent(2/4): gamma=0.0019306977288832496 mse-loss=0.16996773491750342 \n",
      "Gradient Descent(3/4): gamma=0.0019306977288832496 mse-loss=0.16897768633982796 \n",
      "Gradient Descent(4/4): gamma=0.0019306977288832496 mse-loss=0.16804199513301168 \n",
      "3 proportion=0.9, gamma=0.002, Training RMSE=0.16732, Testing RMSE=0.16804\n",
      "GAMMA TRAIN 0.0026826957952797246\n",
      "Gradient Descent(0/4): gamma=0.0026826957952797246 mse-loss=0.17146913580246914 \n",
      "Gradient Descent(1/4): gamma=0.0026826957952797246 mse-loss=0.16990420048838986 \n",
      "Gradient Descent(2/4): gamma=0.0026826957952797246 mse-loss=0.16846955690550838 \n",
      "Gradient Descent(3/4): gamma=0.0026826957952797246 mse-loss=0.16714841216348358 \n",
      "Gradient Descent(4/4): gamma=0.0026826957952797246 mse-loss=0.16592631860021465 \n",
      "GAMMA test 0.0026826957952797246\n",
      "Gradient Descent(0/4): gamma=0.0026826957952797246 mse-loss=0.17213333333333333 \n",
      "Gradient Descent(1/4): gamma=0.0026826957952797246 mse-loss=0.17059237406360328 \n",
      "Gradient Descent(2/4): gamma=0.0026826957952797246 mse-loss=0.16917620743309236 \n",
      "Gradient Descent(3/4): gamma=0.0026826957952797246 mse-loss=0.16786907491176853 \n",
      "Gradient Descent(4/4): gamma=0.0026826957952797246 mse-loss=0.1666573606469483 \n",
      "4 proportion=0.9, gamma=0.003, Training RMSE=0.16593, Testing RMSE=0.16666\n",
      "GAMMA TRAIN 0.003727593720314938\n",
      "Gradient Descent(0/4): gamma=0.003727593720314938 mse-loss=0.17146913580246914 \n",
      "Gradient Descent(1/4): gamma=0.003727593720314938 mse-loss=0.1693135402420964 \n",
      "Gradient Descent(2/4): gamma=0.003727593720314938 mse-loss=0.16740274931341745 \n",
      "Gradient Descent(3/4): gamma=0.003727593720314938 mse-loss=0.16569366678280106 \n",
      "Gradient Descent(4/4): gamma=0.003727593720314938 mse-loss=0.16415142000029823 \n",
      "GAMMA test 0.003727593720314938\n",
      "Gradient Descent(0/4): gamma=0.003727593720314938 mse-loss=0.17213333333333333 \n",
      "Gradient Descent(1/4): gamma=0.003727593720314938 mse-loss=0.17001022836886015 \n",
      "Gradient Descent(2/4): gamma=0.003727593720314938 mse-loss=0.16812173897842544 \n",
      "Gradient Descent(3/4): gamma=0.003727593720314938 mse-loss=0.1664273704279585 \n",
      "Gradient Descent(4/4): gamma=0.003727593720314938 mse-loss=0.16489416110917143 \n",
      "5 proportion=0.9, gamma=0.004, Training RMSE=0.16415, Testing RMSE=0.16489\n",
      "GAMMA TRAIN 0.005179474679231213\n",
      "Gradient Descent(0/4): gamma=0.005179474679231213 mse-loss=0.17146913580246914 \n",
      "Gradient Descent(1/4): gamma=0.005179474679231213 mse-loss=0.16851038741780297 \n",
      "Gradient Descent(2/4): gamma=0.005179474679231213 mse-loss=0.16600649716597501 \n",
      "Gradient Descent(3/4): gamma=0.005179474679231213 mse-loss=0.16384887059317893 \n",
      "Gradient Descent(4/4): gamma=0.005179474679231213 mse-loss=0.1619570301036441 \n",
      "GAMMA test 0.005179474679231213\n",
      "Gradient Descent(0/4): gamma=0.005179474679231213 mse-loss=0.17213333333333333 \n",
      "Gradient Descent(1/4): gamma=0.005179474679231213 mse-loss=0.1692181395716296 \n",
      "Gradient Descent(2/4): gamma=0.005179474679231213 mse-loss=0.16673925057304573 \n",
      "Gradient Descent(3/4): gamma=0.005179474679231213 mse-loss=0.16459443869397916 \n",
      "Gradient Descent(4/4): gamma=0.005179474679231213 mse-loss=0.16270732762470144 \n",
      "6 proportion=0.9, gamma=0.005, Training RMSE=0.16196, Testing RMSE=0.16271\n",
      "GAMMA TRAIN 0.0071968567300115215\n",
      "Gradient Descent(0/4): gamma=0.0071968567300115215 mse-loss=0.17146913580246914 \n",
      "Gradient Descent(1/4): gamma=0.0071968567300115215 mse-loss=0.16742832661251553 \n",
      "Gradient Descent(2/4): gamma=0.0071968567300115215 mse-loss=0.16421919323246892 \n",
      "Gradient Descent(3/4): gamma=0.0071968567300115215 mse-loss=0.1615752399187652 \n",
      "Gradient Descent(4/4): gamma=0.0071968567300115215 mse-loss=0.15932265379748264 \n",
      "GAMMA test 0.0071968567300115215\n",
      "Gradient Descent(0/4): gamma=0.0071968567300115215 mse-loss=0.17213333333333333 \n",
      "Gradient Descent(1/4): gamma=0.0071968567300115215 mse-loss=0.16814997152237499 \n",
      "Gradient Descent(2/4): gamma=0.0071968567300115215 mse-loss=0.16496535498806733 \n",
      "Gradient Descent(3/4): gamma=0.0071968567300115215 mse-loss=0.16232795665679933 \n",
      "Gradient Descent(4/4): gamma=0.0071968567300115215 mse-loss=0.16007190712744324 \n",
      "7 proportion=0.9, gamma=0.007, Training RMSE=0.15932, Testing RMSE=0.16007\n",
      "GAMMA TRAIN 0.01\n",
      "Gradient Descent(0/4): gamma=0.01 mse-loss=0.17146913580246914 \n",
      "Gradient Descent(1/4): gamma=0.01 mse-loss=0.1659902903643476 \n",
      "Gradient Descent(2/4): gamma=0.01 mse-loss=0.1619968233879391 \n",
      "Gradient Descent(3/4): gamma=0.01 mse-loss=0.1588596690854961 \n",
      "Gradient Descent(4/4): gamma=0.01 mse-loss=0.15623928143586027 \n",
      "GAMMA test 0.01\n",
      "Gradient Descent(0/4): gamma=0.01 mse-loss=0.17213333333333333 \n",
      "Gradient Descent(1/4): gamma=0.01 mse-loss=0.1667283804897594 \n",
      "Gradient Descent(2/4): gamma=0.01 mse-loss=0.1627525693948811 \n",
      "Gradient Descent(3/4): gamma=0.01 mse-loss=0.15960996151510126 \n",
      "Gradient Descent(4/4): gamma=0.01 mse-loss=0.15697414826595438 \n",
      "8 proportion=0.9, gamma=0.010, Training RMSE=0.15624, Testing RMSE=0.15697\n",
      "GAMMA TRAIN 0.013894954943731374\n",
      "Gradient Descent(0/4): gamma=0.013894954943731374 mse-loss=0.17146913580246914 \n",
      "Gradient Descent(1/4): gamma=0.013894954943731374 mse-loss=0.1641185721309648 \n",
      "Gradient Descent(2/4): gamma=0.013894954943731374 mse-loss=0.15932961335464926 \n",
      "Gradient Descent(3/4): gamma=0.013894954943731374 mse-loss=0.15570166569559502 \n",
      "Gradient Descent(4/4): gamma=0.013894954943731374 mse-loss=0.15266812131106552 \n",
      "GAMMA test 0.013894954943731374\n",
      "Gradient Descent(0/4): gamma=0.013894954943731374 mse-loss=0.17213333333333333 \n",
      "Gradient Descent(1/4): gamma=0.013894954943731374 mse-loss=0.16487399351141474 \n",
      "Gradient Descent(2/4): gamma=0.013894954943731374 mse-loss=0.16008584391657915 \n",
      "Gradient Descent(3/4): gamma=0.013894954943731374 mse-loss=0.15643502023849543 \n",
      "Gradient Descent(4/4): gamma=0.013894954943731374 mse-loss=0.15337199347713193 \n",
      "9 proportion=0.9, gamma=0.014, Training RMSE=0.15267, Testing RMSE=0.15337\n",
      "GAMMA TRAIN 0.019306977288832496\n",
      "Gradient Descent(0/4): gamma=0.019306977288832496 mse-loss=0.17146913580246914 \n",
      "Gradient Descent(1/4): gamma=0.019306977288832496 mse-loss=0.1617619197330623 \n",
      "Gradient Descent(2/4): gamma=0.019306977288832496 mse-loss=0.1562408426659176 \n"
     ]
    },
    {
     "name": "stdout",
     "output_type": "stream",
     "text": [
      "Gradient Descent(3/4): gamma=0.019306977288832496 mse-loss=0.15205880101322053 \n",
      "Gradient Descent(4/4): gamma=0.019306977288832496 mse-loss=0.14848561253550263 \n",
      "GAMMA test 0.019306977288832496\n",
      "Gradient Descent(0/4): gamma=0.019306977288832496 mse-loss=0.17213333333333333 \n",
      "Gradient Descent(1/4): gamma=0.019306977288832496 mse-loss=0.16253076671842487 \n",
      "Gradient Descent(2/4): gamma=0.019306977288832496 mse-loss=0.15698277378255382 \n",
      "Gradient Descent(3/4): gamma=0.019306977288832496 mse-loss=0.1527576116867398 \n",
      "Gradient Descent(4/4): gamma=0.019306977288832496 mse-loss=0.14914205283179544 \n",
      "10 proportion=0.9, gamma=0.019, Training RMSE=0.14849, Testing RMSE=0.14914\n",
      "GAMMA TRAIN 0.026826957952797246\n",
      "Gradient Descent(0/4): gamma=0.026826957952797246 mse-loss=0.17146913580246914 \n",
      "Gradient Descent(1/4): gamma=0.026826957952797246 mse-loss=0.15895862904661956 \n",
      "Gradient Descent(2/4): gamma=0.026826957952797246 mse-loss=0.15272350246358518 \n",
      "Gradient Descent(3/4): gamma=0.026826957952797246 mse-loss=0.14777653885603065 \n",
      "Gradient Descent(4/4): gamma=0.026826957952797246 mse-loss=0.14349666242963563 \n",
      "GAMMA test 0.026826957952797246\n",
      "Gradient Descent(0/4): gamma=0.026826957952797246 mse-loss=0.17213333333333333 \n",
      "Gradient Descent(1/4): gamma=0.026826957952797246 mse-loss=0.15972555714941397 \n",
      "Gradient Descent(2/4): gamma=0.026826957952797246 mse-loss=0.15343316409223828 \n",
      "Gradient Descent(3/4): gamma=0.026826957952797246 mse-loss=0.148423406506866 \n",
      "Gradient Descent(4/4): gamma=0.026826957952797246 mse-loss=0.14409582059212042 \n",
      "11 proportion=0.9, gamma=0.027, Training RMSE=0.14350, Testing RMSE=0.14410\n",
      "GAMMA TRAIN 0.0372759372031494\n",
      "Gradient Descent(0/4): gamma=0.0372759372031494 mse-loss=0.17146913580246914 \n",
      "Gradient Descent(1/4): gamma=0.0372759372031494 mse-loss=0.15597334378546357 \n",
      "Gradient Descent(2/4): gamma=0.0372759372031494 mse-loss=0.14860683163875635 \n",
      "Gradient Descent(3/4): gamma=0.0372759372031494 mse-loss=0.14263035193604956 \n",
      "Gradient Descent(4/4): gamma=0.0372759372031494 mse-loss=0.1375630939568737 \n",
      "GAMMA test 0.0372759372031494\n",
      "Gradient Descent(0/4): gamma=0.0372759372031494 mse-loss=0.17213333333333333 \n",
      "Gradient Descent(1/4): gamma=0.0372759372031494 mse-loss=0.1566978840135106 \n",
      "Gradient Descent(2/4): gamma=0.0372759372031494 mse-loss=0.14925549657429613 \n",
      "Gradient Descent(3/4): gamma=0.0372759372031494 mse-loss=0.14321799354735587 \n",
      "Gradient Descent(4/4): gamma=0.0372759372031494 mse-loss=0.13810569359489985 \n",
      "12 proportion=0.9, gamma=0.037, Training RMSE=0.13756, Testing RMSE=0.13811\n",
      "GAMMA TRAIN 0.0517947467923121\n",
      "Gradient Descent(0/4): gamma=0.0517947467923121 mse-loss=0.17146913580246914 \n",
      "Gradient Descent(1/4): gamma=0.0517947467923121 mse-loss=0.153581996029353 \n",
      "Gradient Descent(2/4): gamma=0.0517947467923121 mse-loss=0.1439027801398517 \n",
      "Gradient Descent(3/4): gamma=0.0517947467923121 mse-loss=0.1366677331193852 \n",
      "Gradient Descent(4/4): gamma=0.0517947467923121 mse-loss=0.13076719985463806 \n",
      "GAMMA test 0.0517947467923121\n",
      "Gradient Descent(0/4): gamma=0.0517947467923121 mse-loss=0.17213333333333333 \n",
      "Gradient Descent(1/4): gamma=0.0517947467923121 mse-loss=0.15417094810111295 \n",
      "Gradient Descent(2/4): gamma=0.0517947467923121 mse-loss=0.14432031245793422 \n",
      "Gradient Descent(3/4): gamma=0.0517947467923121 mse-loss=0.1370668910036839 \n",
      "Gradient Descent(4/4): gamma=0.0517947467923121 mse-loss=0.13117073683160604 \n",
      "13 proportion=0.9, gamma=0.052, Training RMSE=0.13077, Testing RMSE=0.13117\n",
      "GAMMA TRAIN 0.07196856730011518\n",
      "Gradient Descent(0/4): gamma=0.07196856730011518 mse-loss=0.17146913580246914 \n",
      "Gradient Descent(1/4): gamma=0.07196856730011518 mse-loss=0.15365087163287916 \n",
      "Gradient Descent(2/4): gamma=0.07196856730011518 mse-loss=0.1435499578592157 \n",
      "Gradient Descent(3/4): gamma=0.07196856730011518 mse-loss=0.13850990754165046 \n",
      "Gradient Descent(4/4): gamma=0.07196856730011518 mse-loss=0.13923248600423938 \n",
      "GAMMA test 0.07196856730011518\n",
      "Gradient Descent(0/4): gamma=0.07196856730011518 mse-loss=0.17213333333333333 \n",
      "Gradient Descent(1/4): gamma=0.07196856730011518 mse-loss=0.15390335860033624 \n",
      "Gradient Descent(2/4): gamma=0.07196856730011518 mse-loss=0.14254754524540914 \n",
      "Gradient Descent(3/4): gamma=0.07196856730011518 mse-loss=0.1339904505002548 \n",
      "Gradient Descent(4/4): gamma=0.07196856730011518 mse-loss=0.1270887825176128 \n",
      "14 proportion=0.9, gamma=0.072, Training RMSE=0.13923, Testing RMSE=0.12709\n",
      "GAMMA TRAIN 0.1\n",
      "Gradient Descent(0/4): gamma=0.1 mse-loss=0.17146913580246914 \n",
      "Gradient Descent(1/4): gamma=0.1 mse-loss=0.16029481051532374 \n",
      "Gradient Descent(2/4): gamma=0.1 mse-loss=0.18677940327057818 \n",
      "Gradient Descent(3/4): gamma=0.1 mse-loss=0.3453961436873336 \n",
      "Gradient Descent(4/4): gamma=0.1 mse-loss=1.1587490224578103 \n",
      "GAMMA test 0.1\n",
      "Gradient Descent(0/4): gamma=0.1 mse-loss=0.17213333333333333 \n",
      "Gradient Descent(1/4): gamma=0.1 mse-loss=0.1597939101003736 \n",
      "Gradient Descent(2/4): gamma=0.1 mse-loss=0.17760244632232908 \n",
      "Gradient Descent(3/4): gamma=0.1 mse-loss=0.25903568863639426 \n",
      "Gradient Descent(4/4): gamma=0.1 mse-loss=0.5197793159092452 \n",
      "15 proportion=0.9, gamma=0.100, Training RMSE=1.15875, Testing RMSE=0.51978\n"
     ]
    },
    {
     "data": {
      "image/png": "[encoded data removed]",
      "text/plain": [
       "<Figure size 432x288 with 1 Axes>"
      ]
     },
     "metadata": {},
     "output_type": "display_data"
    }
   ],
   "source": [
    "# seed for splitting\n",
    "seed = 1234\n",
    "# seed for splitting\n",
    "split_ratio = ratio_for_splitting\n",
    "# range of gamma to plot (from, to, iterations)\n",
    "gamma_range_gd = np.logspace(-3, -1, 15)\n",
    "# iterations per gamma\n",
    "iteration_gd = 5\n",
    "# params for LS-GD\n",
    "params = {\n",
    "    'gamma': 0,\n",
    "    'initial_w': w_initial,\n",
    "    'max_iters': iteration_gd,\n",
    "}\n",
    "\n",
    "regression_gamma_testing(Y_train, X_train, split_ratio, seed, gamma_range_gd, \"least_squares_GD\", params, \"gamma\")"
   ]
  },
  {
   "cell_type": "markdown",
   "metadata": {},
   "source": [
    "## Linear regression using stochastic gradient descent"
   ]
  },
  {
   "cell_type": "code",
   "execution_count": 15,
   "metadata": {},
   "outputs": [
    {
     "name": "stdout",
     "output_type": "stream",
     "text": [
      "GAMMA TRAIN 1e-15\n",
      "SGD(0/4): loss=0.17139753086419704, w0=7.659092642159105e-17, w1=-1.651605289542454e-16\n",
      "SGD(1/4): loss=0.17139753086419632, w0=1.5320426953957948e-16, w1=-3.319342866229482e-16\n",
      "SGD(2/4): loss=0.17139753086419574, w0=2.296928863071057e-16, w1=-4.978804881885471e-16\n",
      "SGD(3/4): loss=0.1713975308641952, w0=3.066686438847505e-16, w1=-6.671534339961463e-16\n",
      "SGD(4/4): loss=0.1713975308641946, w0=3.83597797863131e-16, w1=-8.326729063956437e-16\n",
      "GAMMA test 1e-15\n",
      "SGD(0/4): loss=0.17277777777777717, w0=8.139709804413079e-17, w1=-1.6912678660805298e-16\n",
      "SGD(1/4): loss=0.17277777777777656, w0=1.6279419608826144e-16, w1=-3.382535732161056e-16\n",
      "SGD(2/4): loss=0.17277777777777595, w0=2.4419129413239184e-16, w1=-5.073803598241575e-16\n",
      "SGD(3/4): loss=0.17277777777777534, w0=3.2558839217652194e-16, w1=-6.765071464322088e-16\n",
      "SGD(4/4): loss=0.17277777777777473, w0=4.0698549022065185e-16, w1=-8.456339330402592e-16\n",
      "1 proportion=0.9, gamma=0.000, Training RMSE=0.17140, Testing RMSE=0.17278\n",
      "GAMMA TRAIN 2.9286445646252376e-14\n",
      "SGD(0/4): loss=0.17139753086417991, w0=2.2048163273453506e-15, w1=-4.910243583412546e-15\n",
      "SGD(1/4): loss=0.17139753086416257, w0=4.428653420849755e-15, w1=-9.823575606505303e-15\n",
      "SGD(2/4): loss=0.17139753086414558, w0=6.631560467394919e-15, w1=-1.4707377961528528e-14\n",
      "SGD(3/4): loss=0.17139753086412823, w0=8.877582801662271e-15, w1=-1.9660083239185885e-14\n",
      "SGD(4/4): loss=0.17139753086411097, w0=1.1105463846075812e-14, w1=-2.4475894717032527e-14\n",
      "GAMMA test 2.9286445646252376e-14\n",
      "SGD(0/4): loss=0.17277777777775988, w0=2.383831687632113e-15, w1=-4.953122443322072e-15\n",
      "SGD(1/4): loss=0.172777777777742, w0=4.767663375263858e-15, w1=-9.90624488664325e-15\n",
      "SGD(2/4): loss=0.17277777777772413, w0=7.151495062895254e-15, w1=-1.4859367329963452e-14\n",
      "SGD(3/4): loss=0.17277777777770628, w0=9.535326750526279e-15, w1=-1.981248977328272e-14\n",
      "SGD(4/4): loss=0.17277777777768838, w0=1.1919158438156946e-14, w1=-2.476561221660104e-14\n",
      "2 proportion=0.9, gamma=0.000, Training RMSE=0.17140, Testing RMSE=0.17278\n",
      "GAMMA TRAIN 8.576958985908946e-13\n",
      "SGD(0/4): loss=0.17139753086368464, w0=6.485667917834924e-14, w1=-1.4411838675091278e-13\n",
      "SGD(1/4): loss=0.17139753086317408, w0=1.2975373441668433e-13, w1=-2.849290209620641e-13\n",
      "SGD(2/4): loss=0.1713975308626662, w0=1.9508844800075454e-13, w1=-4.268760050899421e-13\n",
      "SGD(3/4): loss=0.1713975308621553, w0=2.608825263627407e-13, w1=-5.704749772716356e-13\n",
      "SGD(4/4): loss=0.17139753086165047, w0=3.2692124177777756e-13, w1=-7.135088953869279e-13\n",
      "GAMMA test 8.576958985908946e-13\n",
      "SGD(0/4): loss=0.17277777777725417, w0=6.981395714965191e-14, w1=-1.4505935121558441e-13\n",
      "SGD(1/4): loss=0.17277777777673056, w0=1.3962791429899276e-13, w1=-2.901187024303639e-13\n",
      "SGD(2/4): loss=0.17277777777620698, w0=2.0944187144802247e-13, w1=-4.35178053644338e-13\n",
      "SGD(3/4): loss=0.17277777777568334, w0=2.792558285967412e-13, w1=-5.802374048575069e-13\n",
      "SGD(4/4): loss=0.17277777777515974, w0=3.4906978574514883e-13, w1=-7.252967560698708e-13\n",
      "3 proportion=0.9, gamma=0.000, Training RMSE=0.17140, Testing RMSE=0.17278\n",
      "GAMMA TRAIN 2.511886431509572e-11\n",
      "SGD(0/4): loss=0.1713975308492797, w0=1.9326354621298637e-12, w1=-4.195612784941295e-12\n",
      "SGD(1/4): loss=0.17139753083454373, w0=3.865691460297745e-12, w1=-8.375345448325782e-12\n",
      "SGD(2/4): loss=0.17139753081948658, w0=5.806922253540672e-12, w1=-1.2551526737646224e-11\n",
      "SGD(3/4): loss=0.1713975308045566, w0=7.747402377091414e-12, w1=-1.6734851730404677e-11\n",
      "SGD(4/4): loss=0.17139753078989262, w0=9.663918058421664e-12, w1=-2.0901463826793548e-11\n",
      "GAMMA test 2.511886431509572e-11\n",
      "SGD(0/4): loss=0.17277777776244319, w0=2.044602661413066e-12, w1=-4.248272804855829e-12\n",
      "SGD(1/4): loss=0.17277777774710856, w0=4.089205322559304e-12, w1=-8.496545609021042e-12\n",
      "SGD(2/4): loss=0.1727777777317739, w0=6.133807983438717e-12, w1=-1.274481841249566e-11\n",
      "SGD(3/4): loss=0.17277777771643935, w0=8.178410644051296e-12, w1=-1.699309121527966e-11\n",
      "SGD(4/4): loss=0.17277777770110472, w0=1.022301330439705e-11, w1=-2.1241364017373043e-11\n",
      "4 proportion=0.9, gamma=0.000, Training RMSE=0.17140, Testing RMSE=0.17278\n",
      "GAMMA TRAIN 7.356422544596422e-10\n",
      "SGD(0/4): loss=0.17139753042085287, w0=5.670609129661604e-11, w1=-1.226648688708043e-10\n",
      "SGD(1/4): loss=0.17139752999287106, w0=1.128243158763504e-10, w1=-2.461761169111804e-10\n",
      "SGD(2/4): loss=0.17139752955452703, w0=1.6928894897920036e-10, w1=-3.6819303789579784e-10\n",
      "SGD(3/4): loss=0.17139752911763326, w0=2.2637121143338122e-10, w1=-4.912900168631892e-10\n",
      "SGD(4/4): loss=0.1713975286781587, w0=2.8216909648111545e-10, w1=-6.134498695374203e-10\n",
      "GAMMA test 7.356422544596422e-10\n",
      "SGD(0/4): loss=0.17277777732868146, w0=5.98791447116569e-11, w1=-1.24416810589863e-10\n",
      "SGD(1/4): loss=0.17277777687958515, w0=1.197582891944565e-10, w1=-2.4883362058739073e-10\n",
      "SGD(2/4): loss=0.17277777643048883, w0=1.7963743344839876e-10, w1=-3.732504299925832e-10\n",
      "SGD(3/4): loss=0.17277777598139255, w0=2.3951657747348335e-10, w1=-4.976672388054404e-10\n",
      "SGD(4/4): loss=0.17277777553229628, w0=2.993957212697106e-10, w1=-6.220840470259621e-10\n",
      "5 proportion=0.9, gamma=0.000, Training RMSE=0.17140, Testing RMSE=0.17278\n",
      "GAMMA TRAIN 2.1544346900318822e-08\n",
      "SGD(0/4): loss=0.17139751796737243, w0=1.6378387901101269e-09, w1=-3.591597974986597e-09\n",
      "SGD(1/4): loss=0.17139750509744422, w0=3.2673634054794177e-09, w1=-7.199059970758502e-09\n",
      "SGD(2/4): loss=0.1713974921876477, w0=4.90027387746769e-09, w1=-1.0856179133584215e-08\n",
      "SGD(3/4): loss=0.171397479560953, w0=6.55380727478396e-09, w1=-1.445134347375431e-08\n",
      "SGD(4/4): loss=0.17139746678457313, w0=8.22313882755019e-09, w1=-1.8062250493943978e-08\n",
      "GAMMA test 2.1544346900318822e-08\n",
      "SGD(0/4): loss=0.17277776462534494, w0=1.7536473169420176e-09, w1=-3.6437261608200897e-09\n",
      "SGD(1/4): loss=0.17277775147292102, w0=3.507294437593946e-09, w1=-7.287451813596649e-09\n",
      "SGD(2/4): loss=0.17277773832050614, w0=5.260941361955862e-09, w1=-1.0931176958329849e-08\n",
      "SGD(3/4): loss=0.1727777251681002, w0=7.014588090027843e-09, w1=-1.4574901595019896e-08\n",
      "SGD(4/4): loss=0.17277771201570333, w0=8.768234621809965e-09, w1=-1.821862572366697e-08\n",
      "6 proportion=0.9, gamma=0.000, Training RMSE=0.17140, Testing RMSE=0.17278\n",
      "GAMMA TRAIN 6.309573444801917e-07\n",
      "SGD(0/4): loss=0.1713971495049613, w0=4.836589742683471e-08, w1=-1.0665316783050415e-07\n",
      "SGD(1/4): loss=0.17139677644782422, w0=9.634204244871822e-08, w1=-2.110311136631013e-07\n",
      "SGD(2/4): loss=0.1713964048595362, w0=1.4391715203887434e-07, w1=-3.1660835714232377e-07\n",
      "SGD(3/4): loss=0.17139603388967412, w0=1.9234054461654917e-07, w1=-4.2096101916914943e-07\n",
      "SGD(4/4): loss=0.17139566496721387, w0=2.4082899879457973e-07, w1=-5.265021600935842e-07\n",
      "GAMMA test 6.309573444801917e-07\n",
      "SGD(0/4): loss=0.1727773925916288, w0=5.135809683031862e-08, w1=-1.0671178815868519e-07\n",
      "SGD(1/4): loss=0.17277700741318824, w0=1.0271602530343473e-07, w1=-2.1342314057051314e-07\n",
      "SGD(2/4): loss=0.1727766222424558, w0=1.5407378542123898e-07, w1=-3.2013405724021833e-07\n",
      "SGD(3/4): loss=0.1727762370794313, w0=2.054313771856218e-07, w1=-4.268445381725355e-07\n",
      "SGD(4/4): loss=0.1727758519241144, w0=2.5678880059847367e-07, w1=-5.335545833721987e-07\n",
      "7 proportion=0.9, gamma=0.000, Training RMSE=0.17140, Testing RMSE=0.17278\n",
      "GAMMA TRAIN 1.847849797422287e-05\n",
      "SGD(0/4): loss=0.17138651383875966, w0=1.4218450502182904e-06, w1=-3.096168268754244e-06\n",
      "SGD(1/4): loss=0.17137544694638435, w0=2.8395047944881907e-06, w1=-6.2169973706851975e-06\n",
      "SGD(2/4): loss=0.17136445412450174, w0=4.2285905125584555e-06, w1=-9.280830818531627e-06\n",
      "SGD(3/4): loss=0.17135351460287174, w0=5.649906476476778e-06, w1=-1.2413927356742651e-05\n",
      "SGD(4/4): loss=0.17134273061644334, w0=7.036181340543558e-06, w1=-1.5453711589373576e-05\n",
      "GAMMA test 1.847849797422287e-05\n",
      "SGD(0/4): loss=0.17276649864101187, w0=1.5040961113160916e-06, w1=-3.1252089837237306e-06\n",
      "SGD(1/4): loss=0.17275522611279182, w0=3.0080478233501086e-06, w1=-6.250044229155209e-06\n",
      "SGD(2/4): loss=0.17274396018710844, w0=4.511855183590954e-06, w1=-9.374505855220791e-06\n",
      "SGD(3/4): loss=0.1727327008579584, w0=6.015518239504151e-06, w1=-1.2498593980793734e-05\n",
      "SGD(4/4): loss=0.17272144811934423, w0=7.51903703853185e-06, w1=-1.562230872469426e-05\n",
      "8 proportion=0.9, gamma=0.000, Training RMSE=0.17134, Testing RMSE=0.17272\n",
      "GAMMA TRAIN 0.0005411695265464627\n"
     ]
    },
    {
     "name": "stdout",
     "output_type": "stream",
     "text": [
      "SGD(0/4): loss=0.17107083742903567, w0=4.153320282823253e-05, w1=-9.106890844252055e-05\n",
      "SGD(1/4): loss=0.17075918888451302, w0=8.23431546137361e-05, w1=-0.00017973844219225203\n",
      "SGD(2/4): loss=0.1704521329065046, w0=0.00012363284552192899, w1=-0.00026972509642013464\n",
      "SGD(3/4): loss=0.17014967544861828, w0=0.0001644218394799218, w1=-0.00035849096276063065\n",
      "SGD(4/4): loss=0.16984682830298747, w0=0.00020607212079676583, w1=-0.0004478614743496501\n",
      "GAMMA test 0.0005411695265464627\n",
      "SGD(0/4): loss=0.17244882122005453, w0=4.404962901079828e-05, w1=-9.152626303500472e-05\n",
      "SGD(1/4): loss=0.17212546010684507, w0=8.797540734959914e-05, w1=-0.00018273197226959805\n",
      "SGD(2/4): loss=0.17180754660993197, w0=0.00013177852788385863, w1=-0.0002736201149986906\n",
      "SGD(3/4): loss=0.17149493711021602, w0=0.0001754601662763288, w1=-0.00036419363946544236\n",
      "SGD(4/4): loss=0.1711874920755244, w0=0.00021902148124562488, w1=-0.00045445545541826466\n",
      "9 proportion=0.9, gamma=0.001, Training RMSE=0.16985, Testing RMSE=0.17119\n",
      "GAMMA TRAIN 0.015848931924611134\n",
      "SGD(0/4): loss=0.16319940438445715, w0=0.0012037144040698625, w1=-0.0026258001595875274\n",
      "SGD(1/4): loss=0.15810965166379018, w0=0.0023262153049312968, w1=-0.005018852532524168\n",
      "SGD(2/4): loss=0.15433345365500767, w0=0.003357209972963161, w1=-0.007141110604215212\n",
      "SGD(3/4): loss=0.1511041511257542, w0=0.00434657250173724, w1=-0.009158510697062663\n",
      "SGD(4/4): loss=0.1482468677611406, w0=0.00528998190128337, w1=-0.011047553699085326\n",
      "GAMMA test 0.015848931924611134\n",
      "SGD(0/4): loss=0.16431822507081895, w0=0.0012900570657623268, w1=-0.002680478927579267\n",
      "SGD(1/4): loss=0.15902453061054406, w0=0.002473887918114785, w1=-0.005086020175267965\n",
      "SGD(2/4): loss=0.15501849209400195, w0=0.0035814560328263183, w1=-0.007291661198598306\n",
      "SGD(3/4): loss=0.1516422837162573, w0=0.004630068378829649, w1=-0.009343711335011044\n",
      "SGD(4/4): loss=0.14864555359901613, w0=0.005629989144503834, w1=-0.011271752057132756\n",
      "10 proportion=0.9, gamma=0.016, Training RMSE=0.14825, Testing RMSE=0.14865\n"
     ]
    },
    {
     "data": {
      "image/png": "[encoded data removed]",
      "text/plain": [
       "<Figure size 432x288 with 1 Axes>"
      ]
     },
     "metadata": {},
     "output_type": "display_data"
    }
   ],
   "source": [
    "\n",
    "gamma_range_sgd = np.logspace(-15, -1.8, 10)\n",
    "# iterations per gamma\n",
    "iteration_sgd = 5\n",
    "# params for LS-SGD\n",
    "params = {\n",
    "    'initial_w': w_initial,\n",
    "    'batch_size': 100000,\n",
    "    'max_iters': iteration_sgd,\n",
    "    'gamma': 0.00005,\n",
    "}\n",
    "\n",
    "#SGD_training = implementations.Training(\"least_squares_SGD\", params)\n",
    "#SGD_training.fit(X_train, Y_train)\n",
    "\n",
    "regression_gamma_testing(Y_train, X_train, split_ratio, seed, gamma_range_sgd, \"least_squares_SGD\", params, \"gamma\")\n"
   ]
  },
  {
   "cell_type": "markdown",
   "metadata": {},
   "source": [
    "## Least squares regression using normal equations"
   ]
  },
  {
   "cell_type": "code",
   "execution_count": null,
   "metadata": {},
   "outputs": [],
   "source": []
  },
  {
   "cell_type": "markdown",
   "metadata": {},
   "source": [
    "## Ridge regression using normal equations"
   ]
  },
  {
   "cell_type": "markdown",
   "metadata": {},
   "source": [
    "#### Fining hyperparameter lambda"
   ]
  },
  {
   "cell_type": "code",
   "execution_count": 16,
   "metadata": {},
   "outputs": [
    {
     "name": "stdout",
     "output_type": "stream",
     "text": [
      "GAMMA TRAIN 0.1\n",
      "GAMMA test 0.1\n",
      "1 proportion=0.9, gamma=0.100, Training RMSE=0.07292, Testing RMSE=0.07468\n",
      "GAMMA TRAIN 0.18329807108324356\n",
      "GAMMA test 0.18329807108324356\n",
      "2 proportion=0.9, gamma=0.183, Training RMSE=0.07328, Testing RMSE=0.07509\n",
      "GAMMA TRAIN 0.33598182862837817\n",
      "GAMMA test 0.33598182862837817\n",
      "3 proportion=0.9, gamma=0.336, Training RMSE=0.07358, Testing RMSE=0.07547\n",
      "GAMMA TRAIN 0.6158482110660264\n",
      "GAMMA test 0.6158482110660264\n",
      "4 proportion=0.9, gamma=0.616, Training RMSE=0.07387, Testing RMSE=0.07582\n",
      "GAMMA TRAIN 1.1288378916846888\n",
      "GAMMA test 1.1288378916846888\n",
      "5 proportion=0.9, gamma=1.129, Training RMSE=0.07417, Testing RMSE=0.07613\n",
      "GAMMA TRAIN 2.0691380811147893\n",
      "GAMMA test 2.0691380811147893\n",
      "6 proportion=0.9, gamma=2.069, Training RMSE=0.07451, Testing RMSE=0.07641\n",
      "GAMMA TRAIN 3.79269019073225\n",
      "GAMMA test 3.79269019073225\n",
      "7 proportion=0.9, gamma=3.793, Training RMSE=0.07487, Testing RMSE=0.07670\n",
      "GAMMA TRAIN 6.951927961775605\n",
      "GAMMA test 6.951927961775605\n",
      "8 proportion=0.9, gamma=6.952, Training RMSE=0.07522, Testing RMSE=0.07697\n",
      "GAMMA TRAIN 12.742749857031335\n",
      "GAMMA test 12.742749857031335\n",
      "9 proportion=0.9, gamma=12.743, Training RMSE=0.07552, Testing RMSE=0.07725\n",
      "GAMMA TRAIN 23.357214690901213\n",
      "GAMMA test 23.357214690901213\n",
      "10 proportion=0.9, gamma=23.357, Training RMSE=0.07579, Testing RMSE=0.07751\n",
      "GAMMA TRAIN 42.81332398719391\n",
      "GAMMA test 42.81332398719391\n",
      "11 proportion=0.9, gamma=42.813, Training RMSE=0.07602, Testing RMSE=0.07778\n",
      "GAMMA TRAIN 78.47599703514607\n",
      "GAMMA test 78.47599703514607\n",
      "12 proportion=0.9, gamma=78.476, Training RMSE=0.07624, Testing RMSE=0.07807\n",
      "GAMMA TRAIN 143.8449888287663\n",
      "GAMMA test 143.8449888287663\n",
      "13 proportion=0.9, gamma=143.845, Training RMSE=0.07646, Testing RMSE=0.07841\n",
      "GAMMA TRAIN 263.6650898730358\n",
      "GAMMA test 263.6650898730358\n",
      "14 proportion=0.9, gamma=263.665, Training RMSE=0.07669, Testing RMSE=0.07883\n",
      "GAMMA TRAIN 483.2930238571752\n",
      "GAMMA test 483.2930238571752\n",
      "15 proportion=0.9, gamma=483.293, Training RMSE=0.07696, Testing RMSE=0.07939\n",
      "GAMMA TRAIN 885.8667904100823\n",
      "GAMMA test 885.8667904100823\n",
      "16 proportion=0.9, gamma=885.867, Training RMSE=0.07730, Testing RMSE=0.08016\n",
      "GAMMA TRAIN 1623.776739188721\n",
      "GAMMA test 1623.776739188721\n",
      "17 proportion=0.9, gamma=1623.777, Training RMSE=0.07773, Testing RMSE=0.08126\n",
      "GAMMA TRAIN 2976.351441631319\n",
      "GAMMA test 2976.351441631319\n",
      "18 proportion=0.9, gamma=2976.351, Training RMSE=0.07826, Testing RMSE=0.08296\n",
      "GAMMA TRAIN 5455.594781168515\n",
      "GAMMA test 5455.594781168515\n",
      "19 proportion=0.9, gamma=5455.595, Training RMSE=0.07891, Testing RMSE=0.08584\n",
      "GAMMA TRAIN 10000.0\n",
      "GAMMA test 10000.0\n",
      "20 proportion=0.9, gamma=10000.000, Training RMSE=0.07975, Testing RMSE=0.09093\n"
     ]
    },
    {
     "data": {
      "image/png": "[encoded data removed]",
      "text/plain": [
       "<Figure size 432x288 with 1 Axes>"
      ]
     },
     "metadata": {},
     "output_type": "display_data"
    }
   ],
   "source": [
    "# seed for splitting\n",
    "seed = 12\n",
    "\n",
    "# seed for splitting\n",
    "split_ratio = ratio_for_splitting\n",
    "\n",
    "# range of lambda to plot (from, to, iterations)\n",
    "lambdarange = np.logspace(-1, 4, 20)\n",
    "\n",
    "#ridge_regression_lambda_testing(Y_train, X_train, split_ratio, seed, lambdarange)\n",
    "\n",
    "params = {\n",
    "    'lambda_': 0\n",
    "}\n",
    "regression_gamma_testing(Y_train, X_train, split_ratio, seed, lambdarange, \"ridge_regression\", params, \"lambda_\")\n"
   ]
  },
  {
   "cell_type": "markdown",
   "metadata": {},
   "source": [
    "## Logistic regression using gradient descent or SGD"
   ]
  },
  {
   "cell_type": "code",
   "execution_count": 17,
   "metadata": {},
   "outputs": [],
   "source": [
    "### TODO"
   ]
  },
  {
   "cell_type": "markdown",
   "metadata": {},
   "source": [
    "## Regularized logistic regression using gradient descent or SGD"
   ]
  },
  {
   "cell_type": "code",
   "execution_count": 18,
   "metadata": {},
   "outputs": [],
   "source": [
    "### TODO"
   ]
  }
 ],
 "metadata": {
  "kernelspec": {
   "display_name": "Python 3",
   "language": "python",
   "name": "python3"
  },
  "language_info": {
   "codemirror_mode": {
    "name": "ipython",
    "version": 3
   },
   "file_extension": ".py",
   "mimetype": "text/x-python",
   "name": "python",
   "nbconvert_exporter": "python",
   "pygments_lexer": "ipython3",
   "version": "3.6.5"
  }
 },
 "nbformat": 4,
 "nbformat_minor": 2
}
