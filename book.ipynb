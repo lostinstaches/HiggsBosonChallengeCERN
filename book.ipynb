{
 "cells": [
  {
   "cell_type": "code",
   "execution_count": 57,
   "metadata": {},
   "outputs": [],
   "source": [
    "import utils.dataset as dataset\n",
    "import utils.helpers as helpers\n",
    "import implementations\n",
    "\n",
    "import numpy as np\n",
    "\n",
    "import matplotlib.pyplot as plt"
   ]
  },
  {
   "cell_type": "code",
   "execution_count": null,
   "metadata": {},
   "outputs": [],
   "source": [
    "helpers.test()"
   ]
  },
  {
   "cell_type": "code",
   "execution_count": null,
   "metadata": {},
   "outputs": [],
   "source": [
    "TRAIN_DATASET = 'data/train.csv'\n",
    "TEST_DATA = 'data/test.csv'"
   ]
  },
  {
   "cell_type": "code",
   "execution_count": null,
   "metadata": {},
   "outputs": [],
   "source": [
    "def add_bias_column(X):\n",
    "    X_temp = np.ones((X.shape[0], X.shape[1]+1))\n",
    "    X_temp[:,:-1] = X\n",
    "    X = X_temp\n",
    "    return X\n",
    "\n",
    "def least_squares_GD(Y_train, X_train, w_initial, max_iters, gamma_MSEGD=0.00000074):\n",
    "    print(\"Mean Squared Error Gradient Descent\")\n",
    "    # best setting:max_iters 5000  Gradient Descent(14999/14999): gamma=7.4e-07 mse-loss=0.35792074222770376\n",
    "    #gamma_MSEGD = 0.00000074\n",
    "    # w is the last optimized vector of the algorithm (len(w)==30)\n",
    "    gradient_losses, w = helpers.least_squares_GD(Y_train, X_train, w_initial, max_iters, gamma_MSEGD)\n",
    "    return gradient_losses, w\n",
    "\n",
    "def least_squares_SGD(Y_train, X_train, w_initial, max_iters, batch_size=100000000, gamma_MSEGD=0.00000074):\n",
    "    print(\"Stochastic Mean Squared Error Gradient Descent\")\n",
    "    # best setting even with batch size = every row .. SGD(4999/4999): loss=0.36089722718771117 super costly\n",
    "    #gamma_SMSEGD = 0.00000074\n",
    "    #batch_size = 100000000\n",
    "    sgd_losses, w = helpers.least_squares_SGD(Y_train, X_train, w_initial, batch_size, max_iters, gamma_MSEGD)\n",
    "    return sgd_losses, w\n",
    "\n",
    "def least_squares(Y_train, X_train):\n",
    "    answer = helpers.least_squares(Y_train, X_train)\n",
    "    return answer\n",
    "\n",
    "def ridge_regression(Y_train, X_train, lamda):\n",
    "    print(\"Ridge regression\")\n",
    "    w = helpers.ridge_regression(Y_train, X_train, lamda)\n",
    "    loss_train = helpers.compute_loss(Y_train, X_train, w)\n",
    "    return loss_train, w\n",
    "\n",
    "def logistic_regression(Y_train, X_train, w_initial, max_iters, gamma):\n",
    "    print(\"todo\")\n",
    "    \n",
    "def reg_logistic_regression(Y_train, X_train, lamda, w_initial, max_iters, gamma):\n",
    "    print(\"todo\")\n",
    "    "
   ]
  },
  {
   "cell_type": "code",
   "execution_count": null,
   "metadata": {},
   "outputs": [],
   "source": [
    "print(\"Loading data ..\")\n",
    "\n",
    "# load the train data\n",
    "Y_train, X_train, indexes = dataset.load_csv_data(TRAIN_DATASET)\n",
    "\n",
    "# {-1, 1} -> {0l, 1}\n",
    "Y_train[np.where(Y_train==-1)] = 0.0\n",
    "\n",
    "print(\"Load done ..\")"
   ]
  },
  {
   "cell_type": "code",
   "execution_count": null,
   "metadata": {},
   "outputs": [],
   "source": [
    "print(\"Preprocessing train data ..\")\n",
    "\n",
    "ratio_for_splitting = 0.8\n",
    "\n",
    "# chosen experimenttally\n",
    "features_to_delete = [14, 17, 18]\n",
    "\n",
    "# pre process train data\n",
    "X_train = dataset.delete_features(X_train, features_to_delete)\n",
    "X_train = dataset.preprocess_dataset(X_train)\n",
    "\n",
    "# Add bias\n",
    "X_train = add_bias_column(X_train)\n",
    "\n",
    "# split_data\n",
    "Y_train, Y_validation, X_train, X_validation = dataset.split_data(Y_train, X_train, ratio_for_splitting)\n",
    "helpers.set_valid(X_validation, Y_validation)\n",
    "\n",
    "print(\"Preprocess done ..\")"
   ]
  },
  {
   "cell_type": "code",
   "execution_count": null,
   "metadata": {},
   "outputs": [],
   "source": [
    "print(\"Preprocessing test data ..\")\n",
    "\n",
    "# load test data for predicting Y_data\n",
    "Y_test, X_test, indexes = dataset.load_csv_data(TEST_DATA)\n",
    "Y_test[np.where(Y_test==-1)] = 0.0\n",
    "\n",
    "# pre process test data\n",
    "X_test = dataset.delete_features(X_test, features_to_delete)\n",
    "X_test = dataset.preprocess_dataset(X_test)\n",
    "\n",
    "X_test = add_bias_column(X_test)\n",
    "\n",
    "print(\"Preprocess done ..\")"
   ]
  },
  {
   "cell_type": "code",
   "execution_count": null,
   "metadata": {},
   "outputs": [],
   "source": [
    "### delete"
   ]
  },
  {
   "cell_type": "code",
   "execution_count": null,
   "metadata": {},
   "outputs": [],
   "source": []
  },
  {
   "cell_type": "code",
   "execution_count": 124,
   "metadata": {},
   "outputs": [],
   "source": [
    "# put function to helpers\n",
    "def plot_train_test(train_errors, test_errors, lambdas, degree):\n",
    "    \"\"\"\n",
    "    train_errors, test_errors and lambas should be list (of the same size) the respective train error and test error for a given lambda,\n",
    "    * lambda[0] = 1\n",
    "    * train_errors[0] = RMSE of a ridge regression on the train set\n",
    "    * test_errors[0] = RMSE of the parameter found by ridge regression applied on the test set\n",
    "    \n",
    "    degree is just used for the title of the plot.\n",
    "    \"\"\"\n",
    "    plt.semilogx(lambdas, train_errors, color='b', marker='*', label=\"Train error\")\n",
    "    plt.semilogx(lambdas, test_errors, color='r', marker='*', label=\"Test error\")\n",
    "    plt.xlabel(\"lambda\")\n",
    "    plt.ylabel(\"RMSE\")\n",
    "    #plt.title(\"Ridge regression for polynomial degree \" + str(degree))\n",
    "    leg = plt.legend(loc=1, shadow=True)\n",
    "    leg.draw_frame(False)\n",
    "    #plt.savefig(\"ridge_regression\")"
   ]
  },
  {
   "cell_type": "code",
   "execution_count": 55,
   "metadata": {},
   "outputs": [],
   "source": [
    "# defines initial w of size of features\n",
    "_features = X_train.shape[1]\n",
    "w_initial = np.zeros((_features), dtype=int)"
   ]
  },
  {
   "cell_type": "markdown",
   "metadata": {},
   "source": [
    "## Linear regression using gradient descent"
   ]
  },
  {
   "cell_type": "code",
   "execution_count": null,
   "metadata": {},
   "outputs": [],
   "source": []
  },
  {
   "cell_type": "markdown",
   "metadata": {},
   "source": [
    "## Linear regression using stochastic gradient descent"
   ]
  },
  {
   "cell_type": "code",
   "execution_count": null,
   "metadata": {},
   "outputs": [],
   "source": [
    "### TODO"
   ]
  },
  {
   "cell_type": "markdown",
   "metadata": {},
   "source": [
    "## Least squares regression using normal equations"
   ]
  },
  {
   "cell_type": "code",
   "execution_count": null,
   "metadata": {},
   "outputs": [],
   "source": [
    "### TODO"
   ]
  },
  {
   "cell_type": "markdown",
   "metadata": {},
   "source": [
    "## Ridge regression using normal equations"
   ]
  },
  {
   "cell_type": "markdown",
   "metadata": {},
   "source": [
    "#### Fining hyperparameter lambda"
   ]
  },
  {
   "cell_type": "code",
   "execution_count": 125,
   "metadata": {},
   "outputs": [
    {
     "name": "stdout",
     "output_type": "stream",
     "text": [
      "1 proportion=0.8, degree=0, lambda=0.010, Training RMSE=0.07343, Testing RMSE=0.07277\n",
      "2 proportion=0.8, degree=0, lambda=0.017, Training RMSE=0.07345, Testing RMSE=0.07283\n",
      "3 proportion=0.8, degree=0, lambda=0.028, Training RMSE=0.07347, Testing RMSE=0.07295\n",
      "4 proportion=0.8, degree=0, lambda=0.046, Training RMSE=0.07352, Testing RMSE=0.07314\n",
      "5 proportion=0.8, degree=0, lambda=0.077, Training RMSE=0.07360, Testing RMSE=0.07340\n",
      "6 proportion=0.8, degree=0, lambda=0.129, Training RMSE=0.07374, Testing RMSE=0.07373\n",
      "7 proportion=0.8, degree=0, lambda=0.215, Training RMSE=0.07396, Testing RMSE=0.07407\n",
      "8 proportion=0.8, degree=0, lambda=0.359, Training RMSE=0.07427, Testing RMSE=0.07438\n",
      "9 proportion=0.8, degree=0, lambda=0.599, Training RMSE=0.07463, Testing RMSE=0.07464\n",
      "10 proportion=0.8, degree=0, lambda=1.000, Training RMSE=0.07498, Testing RMSE=0.07486\n"
     ]
    },
    {
     "data": {
      "image/png": "[encoded data removed]",
      "text/plain": [
       "<Figure size 432x288 with 1 Axes>"
      ]
     },
     "metadata": {},
     "output_type": "display_data"
    }
   ],
   "source": [
    "def ridge_regression_lambda_testing(y, x, ratio, seed, lambdarange):\n",
    "    # define parameter\n",
    "    lambdas = lambdarange\n",
    "    \n",
    "    # split data into test and train\n",
    "    x_tr, x_te, y_tr, y_te = dataset.split_data(x, y, ratio, seed)\n",
    "    c = 0\n",
    "    # ridge regression with different lambda\n",
    "    err_train = []\n",
    "    err_test = []\n",
    "    for ind, lambda_ in enumerate(lambdas):\n",
    "        training_tr = implementations.Training('ridge_regression', {\n",
    "            'lambda_': lambda_\n",
    "        })\n",
    "        w_tr, mse_tr = training_tr.fit(x_tr, y_tr)\n",
    "        \n",
    "        training_te = implementations.Training('ridge_regression', {\n",
    "            'lambda_': lambda_\n",
    "        })\n",
    "        w_te, mse_te = training_te.fit(x_te, y_te)\n",
    "                \n",
    "        err_train.append(mse_tr)\n",
    "        err_test.append(mse_te)\n",
    "        c += 1\n",
    "        print(c, \"proportion={p}, degree={d}, lambda={l:.3f}, Training RMSE={tr:.5f}, Testing RMSE={te:.5f}\".format(\n",
    "               p=ratio, d=degree, l=lambda_, tr=err_train[ind], te=err_test[ind]))\n",
    "    plot_train_test(err_train, err_test, lambdas, degree)\n",
    "\n",
    "# seed for splitting\n",
    "seed = 1234\n",
    "\n",
    "# seed for splitting\n",
    "split_ratio = ratio_for_splitting\n",
    "\n",
    "# range of lambda to plot (from, to, iterations)\n",
    "lambdarange = np.logspace(-2, 0, 10)\n",
    "\n",
    "ridge_regression_lambda_testing(Y_train, X_train, split_ratio, seed, lambdarange)"
   ]
  },
  {
   "cell_type": "markdown",
   "metadata": {},
   "source": [
    "## Logistic regression using gradient descent or SGD"
   ]
  },
  {
   "cell_type": "code",
   "execution_count": null,
   "metadata": {},
   "outputs": [],
   "source": [
    "### TODO"
   ]
  },
  {
   "cell_type": "markdown",
   "metadata": {},
   "source": [
    "## Regularized logistic regression using gradient descent or SGD"
   ]
  },
  {
   "cell_type": "code",
   "execution_count": null,
   "metadata": {},
   "outputs": [],
   "source": [
    "### TODO"
   ]
  }
 ],
 "metadata": {
  "kernelspec": {
   "display_name": "Python 3",
   "language": "python",
   "name": "python3"
  },
  "language_info": {
   "codemirror_mode": {
    "name": "ipython",
    "version": 3
   },
   "file_extension": ".py",
   "mimetype": "text/x-python",
   "name": "python",
   "nbconvert_exporter": "python",
   "pygments_lexer": "ipython3",
   "version": "3.6.5"
  }
 },
 "nbformat": 4,
 "nbformat_minor": 2
}
